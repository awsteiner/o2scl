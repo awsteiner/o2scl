{
 "cells": [
  {
   "cell_type": "code",
   "execution_count": 40,
   "metadata": {},
   "outputs": [],
   "source": [
    "import numpy\n",
    "import sympy\n",
    "sympy.init_printing()"
   ]
  },
  {
   "cell_type": "markdown",
   "metadata": {},
   "source": [
    "# Non-degenerate expansion:"
   ]
  },
  {
   "cell_type": "markdown",
   "metadata": {},
   "source": [
    "Define symbolic variables:"
   ]
  },
  {
   "cell_type": "code",
   "execution_count": 2,
   "metadata": {},
   "outputs": [],
   "source": [
    "t=sympy.Symbol('t')\n",
    "k=sympy.Symbol('k')\n",
    "x=sympy.Symbol('x')\n",
    "m=sympy.Symbol('m')"
   ]
  },
  {
   "cell_type": "markdown",
   "metadata": {},
   "source": [
    "Pressure for particles:"
   ]
  },
  {
   "cell_type": "code",
   "execution_count": 3,
   "metadata": {},
   "outputs": [
    {
     "data": {
      "image/png": "[encoded data removed]",
      "text/latex": [
       "$\\displaystyle \\frac{\\left(-1\\right)^{k + 1} t^{2} e^{\\frac{k \\left(x + 1\\right)}{t}} K_{2}\\left(\\frac{k}{t}\\right)}{k^{2}}$"
      ],
      "text/plain": [
       "              k⋅(x + 1)              \n",
       "              ─────────              \n",
       "    k + 1  2      t            ⎛   k⎞\n",
       "(-1)     ⋅t ⋅ℯ         ⋅besselk⎜2, ─⎟\n",
       "                               ⎝   t⎠\n",
       "─────────────────────────────────────\n",
       "                   2                 \n",
       "                  k                  "
      ]
     },
     "metadata": {},
     "output_type": "display_data"
    }
   ],
   "source": [
    "Pk=t**2*(-1)**(k+1)/k/k*sympy.exp(k*(x+1)/t)*sympy.besselk(2,k/t)\n",
    "display(Pk)"
   ]
  },
  {
   "cell_type": "markdown",
   "metadata": {},
   "source": [
    "Pressure for particles and antiparticles together:"
   ]
  },
  {
   "cell_type": "code",
   "execution_count": 4,
   "metadata": {},
   "outputs": [
    {
     "data": {
      "image/png": "[encoded data removed]",
      "text/latex": [
       "$\\displaystyle \\frac{2 \\left(-1\\right)^{k + 1} t^{2} \\cosh{\\left(\\frac{k \\left(x + 1\\right)}{t} \\right)} K_{2}\\left(\\frac{k}{t}\\right)}{k^{2}}$"
      ],
      "text/plain": [
       "      k + 1  2     ⎛k⋅(x + 1)⎞        ⎛   k⎞\n",
       "2⋅(-1)     ⋅t ⋅cosh⎜─────────⎟⋅besselk⎜2, ─⎟\n",
       "                   ⎝    t    ⎠        ⎝   t⎠\n",
       "────────────────────────────────────────────\n",
       "                      2                     \n",
       "                     k                      "
      ]
     },
     "execution_count": 4,
     "metadata": {},
     "output_type": "execute_result"
    }
   ],
   "source": [
    "Pka=(2*t**2*(-1)**(k+1)/k/k*sympy.cosh(k*(x+1)/t)*\n",
    "     sympy.besselk(2,k/t))\n",
    "Pka"
   ]
  },
  {
   "cell_type": "markdown",
   "metadata": {},
   "source": [
    "Show that the pressure for antiparticles is correct:"
   ]
  },
  {
   "cell_type": "code",
   "execution_count": 5,
   "metadata": {},
   "outputs": [
    {
     "data": {
      "image/png": "[encoded data removed]",
      "text/latex": [
       "$\\displaystyle 0$"
      ],
      "text/plain": [
       "0"
      ]
     },
     "execution_count": 5,
     "metadata": {},
     "output_type": "execute_result"
    }
   ],
   "source": [
    "Pka2=(Pk+t**2*(-1)**(k+1)/k/k*sympy.exp(k*(-x-1)/t)*\n",
    "      sympy.besselk(2,k/t))\n",
    "Pka3=Pka2.subs(sympy.exp(k*(x+1)/t),2*sympy.cosh(k*(x+1)/t)-\n",
    "               sympy.exp(-k*(x+1)/t))\n",
    "sympy.simplify(Pka3-Pka)"
   ]
  },
  {
   "cell_type": "markdown",
   "metadata": {},
   "source": [
    "Number density for particles:"
   ]
  },
  {
   "cell_type": "code",
   "execution_count": 6,
   "metadata": {},
   "outputs": [
    {
     "data": {
      "image/png": "[encoded data removed]",
      "text/latex": [
       "$\\displaystyle \\frac{\\left(-1\\right)^{k + 1} t \\left(k K_{0}\\left(\\frac{k}{t}\\right) + 2 t K_{1}\\left(\\frac{k}{t}\\right)\\right) e^{\\frac{k \\left(x + 1\\right)}{t}}}{k^{2} m}$"
      ],
      "text/plain": [
       "                                                   k⋅(x + 1)\n",
       "                                                   ─────────\n",
       "    k + 1   ⎛         ⎛   k⎞              ⎛   k⎞⎞      t    \n",
       "(-1)     ⋅t⋅⎜k⋅besselk⎜0, ─⎟ + 2⋅t⋅besselk⎜1, ─⎟⎟⋅ℯ         \n",
       "            ⎝         ⎝   t⎠              ⎝   t⎠⎠           \n",
       "────────────────────────────────────────────────────────────\n",
       "                             2                              \n",
       "                            k ⋅m                            "
      ]
     },
     "execution_count": 6,
     "metadata": {},
     "output_type": "execute_result"
    }
   ],
   "source": [
    "nk=sympy.simplify(sympy.diff(Pk,x))/m\n",
    "nk"
   ]
  },
  {
   "cell_type": "markdown",
   "metadata": {},
   "source": [
    "Show that $n_k/P_k = k/t/m$:"
   ]
  },
  {
   "cell_type": "code",
   "execution_count": 7,
   "metadata": {},
   "outputs": [
    {
     "data": {
      "image/png": "[encoded data removed]",
      "text/latex": [
       "$\\displaystyle \\frac{k}{m t}$"
      ],
      "text/plain": [
       " k \n",
       "───\n",
       "m⋅t"
      ]
     },
     "execution_count": 7,
     "metadata": {},
     "output_type": "execute_result"
    }
   ],
   "source": [
    "sympy.simplify(nk/Pk)"
   ]
  },
  {
   "cell_type": "markdown",
   "metadata": {},
   "source": [
    "Compute entropy:"
   ]
  },
  {
   "cell_type": "code",
   "execution_count": 8,
   "metadata": {},
   "outputs": [
    {
     "data": {
      "image/png": "[encoded data removed]",
      "text/latex": [
       "$\\displaystyle \\frac{\\left(-1\\right)^{k} \\left(k^{2} x K_{0}\\left(\\frac{k}{t}\\right) + k^{2} K_{0}\\left(\\frac{k}{t}\\right) - k^{2} K_{1}\\left(\\frac{k}{t}\\right) + 2 k t x K_{1}\\left(\\frac{k}{t}\\right) - 4 k t K_{0}\\left(\\frac{k}{t}\\right) + 2 k t K_{1}\\left(\\frac{k}{t}\\right) - 8 t^{2} K_{1}\\left(\\frac{k}{t}\\right)\\right) e^{\\frac{k \\left(x + 1\\right)}{t}}}{k^{3} m}$"
      ],
      "text/plain": [
       "                                                                                                        \n",
       "                                                                                                        \n",
       "    k ⎛ 2          ⎛   k⎞    2        ⎛   k⎞    2        ⎛   k⎞                  ⎛   k⎞                ⎛\n",
       "(-1) ⋅⎜k ⋅x⋅besselk⎜0, ─⎟ + k ⋅besselk⎜0, ─⎟ - k ⋅besselk⎜1, ─⎟ + 2⋅k⋅t⋅x⋅besselk⎜1, ─⎟ - 4⋅k⋅t⋅besselk⎜\n",
       "      ⎝            ⎝   t⎠             ⎝   t⎠             ⎝   t⎠                  ⎝   t⎠                ⎝\n",
       "────────────────────────────────────────────────────────────────────────────────────────────────────────\n",
       "                                                                                 3                      \n",
       "                                                                                k ⋅m                    \n",
       "\n",
       "                                                   k⋅(x + 1)\n",
       "                                                   ─────────\n",
       "   k⎞                ⎛   k⎞      2        ⎛   k⎞⎞      t    \n",
       "0, ─⎟ + 2⋅k⋅t⋅besselk⎜1, ─⎟ - 8⋅t ⋅besselk⎜1, ─⎟⎟⋅ℯ         \n",
       "   t⎠                ⎝   t⎠               ⎝   t⎠⎠           \n",
       "────────────────────────────────────────────────────────────\n",
       "                                                            \n",
       "                                                            "
      ]
     },
     "execution_count": 8,
     "metadata": {},
     "output_type": "execute_result"
    }
   ],
   "source": [
    "sk=sympy.simplify(sympy.diff(Pk,t))/m\n",
    "sk"
   ]
  },
  {
   "cell_type": "markdown",
   "metadata": {},
   "source": [
    "Compare the computed entropy with the expression in the O<sub>2</sub>scl documentation:"
   ]
  },
  {
   "cell_type": "code",
   "execution_count": 9,
   "metadata": {},
   "outputs": [
    {
     "data": {
      "image/png": "[encoded data removed]",
      "text/latex": [
       "$\\displaystyle \\left( \\frac{\\left(-1\\right)^{k + 1} e^{\\frac{k \\left(x + 1\\right)}{t}} K_{1}\\left(\\frac{k}{t}\\right)}{k m} + \\frac{nk \\left(- k x - k + 4 t\\right)}{k t}, \\  0\\right)$"
      ],
      "text/plain": [
       "⎛           k⋅(x + 1)                                       ⎞\n",
       "⎜           ─────────                                       ⎟\n",
       "⎜    k + 1      t            ⎛   k⎞                         ⎟\n",
       "⎜(-1)     ⋅ℯ         ⋅besselk⎜1, ─⎟                         ⎟\n",
       "⎜                            ⎝   t⎠   nk⋅(-k⋅x - k + 4⋅t)   ⎟\n",
       "⎜────────────────────────────────── + ───────────────────, 0⎟\n",
       "⎝               k⋅m                           k⋅t           ⎠"
      ]
     },
     "execution_count": 9,
     "metadata": {},
     "output_type": "execute_result"
    }
   ],
   "source": [
    "nk_old=nk\n",
    "nk=sympy.Symbol('nk')\n",
    "skalt=(nk*(4*t-k*x-k)/k/t+(-1)**(k+1)/k*sympy.exp(k*(x+1)/t)*\n",
    "       sympy.besselk(1,k/t)/m)\n",
    "diff=sympy.simplify(skalt.subs('nk',nk_old)-sk)\n",
    "nk=nk_old\n",
    "skalt,diff"
   ]
  },
  {
   "cell_type": "markdown",
   "metadata": {},
   "source": [
    "Compute terms for energy density:"
   ]
  },
  {
   "cell_type": "code",
   "execution_count": 10,
   "metadata": {},
   "outputs": [
    {
     "data": {
      "image/png": "[encoded data removed]",
      "text/latex": [
       "$\\displaystyle \\frac{\\left(-1\\right)^{k + 1} t \\left(k^{2} K_{1}\\left(\\frac{k}{t}\\right) + 3 k t K_{0}\\left(\\frac{k}{t}\\right) + 6 t^{2} K_{1}\\left(\\frac{k}{t}\\right)\\right) e^{\\frac{k \\left(x + 1\\right)}{t}}}{k^{3}}$"
      ],
      "text/plain": [
       "                                                                           k⋅(x + 1)\n",
       "                                                                           ─────────\n",
       "    k + 1   ⎛ 2        ⎛   k⎞                ⎛   k⎞      2        ⎛   k⎞⎞      t    \n",
       "(-1)     ⋅t⋅⎜k ⋅besselk⎜1, ─⎟ + 3⋅k⋅t⋅besselk⎜0, ─⎟ + 6⋅t ⋅besselk⎜1, ─⎟⎟⋅ℯ         \n",
       "            ⎝          ⎝   t⎠                ⎝   t⎠               ⎝   t⎠⎠           \n",
       "────────────────────────────────────────────────────────────────────────────────────\n",
       "                                          3                                         \n",
       "                                         k                                          "
      ]
     },
     "execution_count": 10,
     "metadata": {},
     "output_type": "execute_result"
    }
   ],
   "source": [
    "edk=sympy.simplify(-Pk+t*m*sk+(x+1)*m*nk)\n",
    "edk"
   ]
  },
  {
   "cell_type": "markdown",
   "metadata": {},
   "source": [
    "Replace K<sub>0</sub> with a combination of K<sub>1</sub> and K<sub>2</sub> and \n",
    "define\n",
    "$$\n",
    "B_1 \\equiv K_1(k/t) \\quad ; \\quad B_2 \\equiv K_2(k/t)\n",
    "$$"
   ]
  },
  {
   "cell_type": "code",
   "execution_count": 11,
   "metadata": {},
   "outputs": [],
   "source": [
    "edk2=edk.subs(sympy.besselk(0,k/t),sympy.besselk(2,k/t)-\n",
    "             2*t/k*sympy.besselk(1,k/t))"
   ]
  },
  {
   "cell_type": "markdown",
   "metadata": {},
   "source": [
    "Show that this substitution works by computing a numerical result:"
   ]
  },
  {
   "cell_type": "code",
   "execution_count": 12,
   "metadata": {},
   "outputs": [
    {
     "data": {
      "image/png": "[encoded data removed]",
      "text/latex": [
       "$\\displaystyle \\left[ 0.0448547577373875, \\  0.0448547577373875\\right]$"
      ],
      "text/plain": [
       "[0.0448547577373875, 0.0448547577373875]"
      ]
     },
     "execution_count": 12,
     "metadata": {},
     "output_type": "execute_result"
    }
   ],
   "source": [
    "[sympy.N(sympy.besselk(0,2.78)),sympy.N(sympy.besselk(2,2.78)-\n",
    "             2/2.78*sympy.besselk(1,2.78))]"
   ]
  },
  {
   "cell_type": "markdown",
   "metadata": {},
   "source": [
    "For convenience, replace with B1 and B2:"
   ]
  },
  {
   "cell_type": "code",
   "execution_count": 13,
   "metadata": {},
   "outputs": [
    {
     "data": {
      "image/png": "[encoded data removed]",
      "text/latex": [
       "$\\displaystyle \\frac{\\left(-1\\right)^{k + 1} t \\left(B_{1} k + 3 B_{2} t\\right) e^{\\frac{k \\left(x + 1\\right)}{t}}}{k^{2}}$"
      ],
      "text/plain": [
       "                             k⋅(x + 1)\n",
       "                             ─────────\n",
       "    k + 1                        t    \n",
       "(-1)     ⋅t⋅(B₁⋅k + 3⋅B₂⋅t)⋅ℯ         \n",
       "──────────────────────────────────────\n",
       "                   2                  \n",
       "                  k                   "
      ]
     },
     "execution_count": 13,
     "metadata": {},
     "output_type": "execute_result"
    }
   ],
   "source": [
    "edk3=sympy.simplify(edk2.subs(sympy.besselk(2,k/t),\n",
    "                              sympy.Symbol('B2')).subs(sympy.besselk(1,k/t),sympy.Symbol('B1')))\n",
    "edk3"
   ]
  },
  {
   "cell_type": "markdown",
   "metadata": {},
   "source": [
    "Number density of antiparticles:"
   ]
  },
  {
   "cell_type": "code",
   "execution_count": 14,
   "metadata": {},
   "outputs": [
    {
     "data": {
      "image/png": "[encoded data removed]",
      "text/latex": [
       "$\\displaystyle - \\frac{2 \\left(-1\\right)^{k} t \\left(k K_{0}\\left(\\frac{k}{t}\\right) + 2 t K_{1}\\left(\\frac{k}{t}\\right)\\right) \\sinh{\\left(\\frac{k \\left(x + 1\\right)}{t} \\right)}}{k^{2} m}$"
      ],
      "text/plain": [
       "       k   ⎛         ⎛   k⎞              ⎛   k⎞⎞     ⎛k⋅(x + 1)⎞ \n",
       "-2⋅(-1) ⋅t⋅⎜k⋅besselk⎜0, ─⎟ + 2⋅t⋅besselk⎜1, ─⎟⎟⋅sinh⎜─────────⎟ \n",
       "           ⎝         ⎝   t⎠              ⎝   t⎠⎠     ⎝    t    ⎠ \n",
       "─────────────────────────────────────────────────────────────────\n",
       "                                2                                \n",
       "                               k ⋅m                              "
      ]
     },
     "execution_count": 14,
     "metadata": {},
     "output_type": "execute_result"
    }
   ],
   "source": [
    "nka=sympy.simplify(sympy.diff(Pka,x))/m\n",
    "nka"
   ]
  },
  {
   "cell_type": "markdown",
   "metadata": {},
   "source": [
    "Compute nka/Pka:"
   ]
  },
  {
   "cell_type": "code",
   "execution_count": 15,
   "metadata": {},
   "outputs": [
    {
     "data": {
      "image/png": "[encoded data removed]",
      "text/latex": [
       "$\\displaystyle \\frac{k \\tanh{\\left(\\frac{k \\left(x + 1\\right)}{t} \\right)}}{m t}$"
      ],
      "text/plain": [
       "      ⎛k⋅(x + 1)⎞\n",
       "k⋅tanh⎜─────────⎟\n",
       "      ⎝    t    ⎠\n",
       "─────────────────\n",
       "       m⋅t       "
      ]
     },
     "execution_count": 15,
     "metadata": {},
     "output_type": "execute_result"
    }
   ],
   "source": [
    "sympy.simplify(nka/Pka)"
   ]
  },
  {
   "cell_type": "markdown",
   "metadata": {},
   "source": [
    "Entropy of antiparticles:"
   ]
  },
  {
   "cell_type": "code",
   "execution_count": 16,
   "metadata": {},
   "outputs": [
    {
     "data": {
      "image/png": "[encoded data removed]",
      "text/latex": [
       "$\\displaystyle \\frac{2 \\left(-1\\right)^{k} \\left(k^{2} x \\sinh{\\left(\\frac{k \\left(x + 1\\right)}{t} \\right)} K_{0}\\left(\\frac{k}{t}\\right) + k^{2} \\sinh{\\left(\\frac{k \\left(x + 1\\right)}{t} \\right)} K_{0}\\left(\\frac{k}{t}\\right) - k^{2} \\cosh{\\left(\\frac{k \\left(x + 1\\right)}{t} \\right)} K_{1}\\left(\\frac{k}{t}\\right) + 2 k t x \\sinh{\\left(\\frac{k \\left(x + 1\\right)}{t} \\right)} K_{1}\\left(\\frac{k}{t}\\right) + 2 k t \\sinh{\\left(\\frac{k \\left(x + 1\\right)}{t} \\right)} K_{1}\\left(\\frac{k}{t}\\right) - 4 k t \\cosh{\\left(\\frac{k \\left(x + 1\\right)}{t} \\right)} K_{0}\\left(\\frac{k}{t}\\right) - 8 t^{2} \\cosh{\\left(\\frac{k \\left(x + 1\\right)}{t} \\right)} K_{1}\\left(\\frac{k}{t}\\right)\\right)}{k^{3} m}$"
      ],
      "text/plain": [
       "      k ⎛ 2       ⎛k⋅(x + 1)⎞        ⎛   k⎞    2     ⎛k⋅(x + 1)⎞        ⎛   k⎞    2     ⎛k⋅(x + 1)⎞     \n",
       "2⋅(-1) ⋅⎜k ⋅x⋅sinh⎜─────────⎟⋅besselk⎜0, ─⎟ + k ⋅sinh⎜─────────⎟⋅besselk⎜0, ─⎟ - k ⋅cosh⎜─────────⎟⋅bess\n",
       "        ⎝         ⎝    t    ⎠        ⎝   t⎠          ⎝    t    ⎠        ⎝   t⎠          ⎝    t    ⎠     \n",
       "────────────────────────────────────────────────────────────────────────────────────────────────────────\n",
       "                                                                                                        \n",
       "                                                                                                        \n",
       "\n",
       "   ⎛   k⎞               ⎛k⋅(x + 1)⎞        ⎛   k⎞             ⎛k⋅(x + 1)⎞        ⎛   k⎞             ⎛k⋅(\n",
       "elk⎜1, ─⎟ + 2⋅k⋅t⋅x⋅sinh⎜─────────⎟⋅besselk⎜1, ─⎟ + 2⋅k⋅t⋅sinh⎜─────────⎟⋅besselk⎜1, ─⎟ - 4⋅k⋅t⋅cosh⎜───\n",
       "   ⎝   t⎠               ⎝    t    ⎠        ⎝   t⎠             ⎝    t    ⎠        ⎝   t⎠             ⎝   \n",
       "────────────────────────────────────────────────────────────────────────────────────────────────────────\n",
       "                             3                                                                          \n",
       "                            k ⋅m                                                                        \n",
       "\n",
       "x + 1)⎞        ⎛   k⎞      2     ⎛k⋅(x + 1)⎞        ⎛   k⎞⎞\n",
       "──────⎟⋅besselk⎜0, ─⎟ - 8⋅t ⋅cosh⎜─────────⎟⋅besselk⎜1, ─⎟⎟\n",
       " t    ⎠        ⎝   t⎠            ⎝    t    ⎠        ⎝   t⎠⎠\n",
       "───────────────────────────────────────────────────────────\n",
       "                                                           \n",
       "                                                           "
      ]
     },
     "execution_count": 16,
     "metadata": {},
     "output_type": "execute_result"
    }
   ],
   "source": [
    "ska=sympy.simplify(sympy.diff(Pka,t))/m\n",
    "ska"
   ]
  },
  {
   "cell_type": "markdown",
   "metadata": {},
   "source": [
    "Alternate expression for entropy of antiparticles:"
   ]
  },
  {
   "cell_type": "code",
   "execution_count": 17,
   "metadata": {},
   "outputs": [
    {
     "data": {
      "image/png": "[encoded data removed]",
      "text/latex": [
       "$\\displaystyle \\left( \\frac{2 \\left(-1\\right)^{k + 1} \\cosh{\\left(\\frac{k \\left(x + 1\\right)}{t} \\right)} K_{3}\\left(\\frac{k}{t}\\right)}{k m} - \\frac{nka \\left(x + 1\\right)}{t}, \\  0\\right)$"
      ],
      "text/plain": [
       "⎛      k + 1     ⎛k⋅(x + 1)⎞        ⎛   k⎞                 ⎞\n",
       "⎜2⋅(-1)     ⋅cosh⎜─────────⎟⋅besselk⎜3, ─⎟                 ⎟\n",
       "⎜                ⎝    t    ⎠        ⎝   t⎠   nka⋅(x + 1)   ⎟\n",
       "⎜───────────────────────────────────────── - ───────────, 0⎟\n",
       "⎝                   k⋅m                           t        ⎠"
      ]
     },
     "execution_count": 17,
     "metadata": {},
     "output_type": "execute_result"
    }
   ],
   "source": [
    "nka_old=nka\n",
    "nka=sympy.Symbol('nka')\n",
    "skaalt=(-nka*(1+x)/t+2*(-1)**(k+1)/k*\n",
    "        sympy.cosh(k*(x+1)/t)*sympy.besselk(3,k/t)/m)\n",
    "diff=sympy.simplify(skaalt.subs('nka',nka_old)-ska)\n",
    "nka=nka_old\n",
    "skaalt,diff"
   ]
  },
  {
   "cell_type": "markdown",
   "metadata": {},
   "source": [
    "Energy density for antiparticles:"
   ]
  },
  {
   "cell_type": "code",
   "execution_count": 18,
   "metadata": {},
   "outputs": [
    {
     "data": {
      "image/png": "[encoded data removed]",
      "text/latex": [
       "$\\displaystyle \\frac{2 \\left(-1\\right)^{k} t \\left(2 k^{2} x \\sinh{\\left(\\frac{k \\left(x + 1\\right)}{t} \\right)} K_{0}\\left(\\frac{k}{t}\\right) + 2 k^{2} \\sinh{\\left(\\frac{k \\left(x + 1\\right)}{t} \\right)} K_{0}\\left(\\frac{k}{t}\\right) - k^{2} \\cosh{\\left(\\frac{k \\left(x + 1\\right)}{t} \\right)} K_{1}\\left(\\frac{k}{t}\\right) + 4 k t x \\sinh{\\left(\\frac{k \\left(x + 1\\right)}{t} \\right)} K_{1}\\left(\\frac{k}{t}\\right) + 4 k t \\sinh{\\left(\\frac{k \\left(x + 1\\right)}{t} \\right)} K_{1}\\left(\\frac{k}{t}\\right) - 3 k t \\cosh{\\left(\\frac{k \\left(x + 1\\right)}{t} \\right)} K_{0}\\left(\\frac{k}{t}\\right) - 6 t^{2} \\cosh{\\left(\\frac{k \\left(x + 1\\right)}{t} \\right)} K_{1}\\left(\\frac{k}{t}\\right)\\right)}{k^{3}}$"
      ],
      "text/plain": [
       "      k   ⎛   2       ⎛k⋅(x + 1)⎞        ⎛   k⎞      2     ⎛k⋅(x + 1)⎞        ⎛   k⎞    2     ⎛k⋅(x + 1)\n",
       "2⋅(-1) ⋅t⋅⎜2⋅k ⋅x⋅sinh⎜─────────⎟⋅besselk⎜0, ─⎟ + 2⋅k ⋅sinh⎜─────────⎟⋅besselk⎜0, ─⎟ - k ⋅cosh⎜─────────\n",
       "          ⎝           ⎝    t    ⎠        ⎝   t⎠            ⎝    t    ⎠        ⎝   t⎠          ⎝    t    \n",
       "────────────────────────────────────────────────────────────────────────────────────────────────────────\n",
       "                                                                                                        \n",
       "                                                                                                        \n",
       "\n",
       "⎞        ⎛   k⎞               ⎛k⋅(x + 1)⎞        ⎛   k⎞             ⎛k⋅(x + 1)⎞        ⎛   k⎞           \n",
       "⎟⋅besselk⎜1, ─⎟ + 4⋅k⋅t⋅x⋅sinh⎜─────────⎟⋅besselk⎜1, ─⎟ + 4⋅k⋅t⋅sinh⎜─────────⎟⋅besselk⎜1, ─⎟ - 3⋅k⋅t⋅co\n",
       "⎠        ⎝   t⎠               ⎝    t    ⎠        ⎝   t⎠             ⎝    t    ⎠        ⎝   t⎠           \n",
       "────────────────────────────────────────────────────────────────────────────────────────────────────────\n",
       "                                 3                                                                      \n",
       "                                k                                                                       \n",
       "\n",
       "  ⎛k⋅(x + 1)⎞        ⎛   k⎞      2     ⎛k⋅(x + 1)⎞        ⎛   k⎞⎞\n",
       "sh⎜─────────⎟⋅besselk⎜0, ─⎟ - 6⋅t ⋅cosh⎜─────────⎟⋅besselk⎜1, ─⎟⎟\n",
       "  ⎝    t    ⎠        ⎝   t⎠            ⎝    t    ⎠        ⎝   t⎠⎠\n",
       "─────────────────────────────────────────────────────────────────\n",
       "                                                                 \n",
       "                                                                 "
      ]
     },
     "execution_count": 18,
     "metadata": {},
     "output_type": "execute_result"
    }
   ],
   "source": [
    "edka=sympy.simplify(-Pka+t*ska*m-(x+1)*m*nka)\n",
    "edka"
   ]
  },
  {
   "cell_type": "markdown",
   "metadata": {},
   "source": [
    "Re-express in terms of K2 and K3:"
   ]
  },
  {
   "cell_type": "code",
   "execution_count": 19,
   "metadata": {},
   "outputs": [
    {
     "data": {
      "image/png": "[encoded data removed]",
      "text/latex": [
       "$\\displaystyle \\frac{\\left(-1\\right)^{k + 1} t \\left(k^{2} K_{1}\\left(\\frac{k}{t}\\right) + 3 k t \\left(K_{2}\\left(\\frac{k}{t}\\right) - \\frac{2 t K_{1}\\left(\\frac{k}{t}\\right)}{k}\\right) + 6 t^{2} K_{1}\\left(\\frac{k}{t}\\right)\\right) e^{\\frac{k \\left(x + 1\\right)}{t}}}{k^{3}}$"
      ],
      "text/plain": [
       "            ⎛                         ⎛                           ⎛   k⎞⎞                     ⎞  k⋅(x + \n",
       "            ⎜                         ⎜                2⋅t⋅besselk⎜1, ─⎟⎟                     ⎟  ───────\n",
       "    k + 1   ⎜ 2        ⎛   k⎞         ⎜       ⎛   k⎞              ⎝   t⎠⎟      2        ⎛   k⎞⎟      t  \n",
       "(-1)     ⋅t⋅⎜k ⋅besselk⎜1, ─⎟ + 3⋅k⋅t⋅⎜besselk⎜2, ─⎟ - ─────────────────⎟ + 6⋅t ⋅besselk⎜1, ─⎟⎟⋅ℯ       \n",
       "            ⎝          ⎝   t⎠         ⎝       ⎝   t⎠           k        ⎠               ⎝   t⎠⎠         \n",
       "────────────────────────────────────────────────────────────────────────────────────────────────────────\n",
       "                                                     3                                                  \n",
       "                                                    k                                                   \n",
       "\n",
       "1)\n",
       "──\n",
       "  \n",
       "  \n",
       "  \n",
       "──\n",
       "  \n",
       "  "
      ]
     },
     "execution_count": 19,
     "metadata": {},
     "output_type": "execute_result"
    }
   ],
   "source": [
    "edka2=edka.subs(sympy.besselk(0,k/t),sympy.besselk(2,k/t)-\n",
    "               2*t/k*sympy.besselk(1,k/t))\n",
    "edka2=edka2.subs(sympy.besselk(1,k/t),sympy.besselk(3,k/t)-\n",
    "               4*t/k*sympy.besselk(2,k/t))\n",
    "edk2"
   ]
  },
  {
   "cell_type": "markdown",
   "metadata": {},
   "source": [
    "Now express in terms of B2 and B3:"
   ]
  },
  {
   "cell_type": "code",
   "execution_count": 20,
   "metadata": {},
   "outputs": [
    {
     "data": {
      "image/png": "[encoded data removed]",
      "text/latex": [
       "$\\displaystyle \\frac{2 \\left(-1\\right)^{k} t \\left(2 B_{2} k x \\sinh{\\left(\\frac{k \\left(x + 1\\right)}{t} \\right)} + 2 B_{2} k \\sinh{\\left(\\frac{k \\left(x + 1\\right)}{t} \\right)} + B_{2} t \\cosh{\\left(\\frac{k \\left(x + 1\\right)}{t} \\right)} - B_{3} k \\cosh{\\left(\\frac{k \\left(x + 1\\right)}{t} \\right)}\\right)}{k^{2}}$"
      ],
      "text/plain": [
       "      k   ⎛             ⎛k⋅(x + 1)⎞              ⎛k⋅(x + 1)⎞            ⎛k⋅(x + 1)⎞            ⎛k⋅(x + 1\n",
       "2⋅(-1) ⋅t⋅⎜2⋅B₂⋅k⋅x⋅sinh⎜─────────⎟ + 2⋅B₂⋅k⋅sinh⎜─────────⎟ + B₂⋅t⋅cosh⎜─────────⎟ - B₃⋅k⋅cosh⎜────────\n",
       "          ⎝             ⎝    t    ⎠              ⎝    t    ⎠            ⎝    t    ⎠            ⎝    t   \n",
       "────────────────────────────────────────────────────────────────────────────────────────────────────────\n",
       "                                                      2                                                 \n",
       "                                                     k                                                  \n",
       "\n",
       ")⎞⎞\n",
       "─⎟⎟\n",
       " ⎠⎠\n",
       "───\n",
       "   \n",
       "   "
      ]
     },
     "execution_count": 20,
     "metadata": {},
     "output_type": "execute_result"
    }
   ],
   "source": [
    "sympy.simplify(edka2.subs(sympy.besselk(2,k/t),sympy.Symbol('B2')).subs(sympy.besselk(3,k/t),sympy.Symbol('B3')))"
   ]
  },
  {
   "cell_type": "markdown",
   "metadata": {},
   "source": [
    "Now generate the code (this isn't useful yet):"
   ]
  },
  {
   "cell_type": "code",
   "execution_count": 21,
   "metadata": {},
   "outputs": [
    {
     "name": "stdout",
     "output_type": "stream",
     "text": [
      "prterm=pow(-1, k + 1)*K2exp*pow(t, 2)*exp(k*x/t)/pow(k, 2)\n",
      "nterm=prterm*k/t\n",
      "enterm=pow(-1, k + 1)*K1exp*exp(k*x/t)/(k*m) + nk*(-k*x - k + 4*t)/(k*t)\n",
      "edterm=pow(-1, k + 1)*t*(K1exp*k + 3*K2exp*t)*exp(k*x/t)/pow(k, 2)\n"
     ]
    }
   ],
   "source": [
    "Pk2=sympy.simplify((Pk*sympy.exp(-k/t)).subs(sympy.besselk(2,k/t),'K2exp'))\n",
    "print('prterm='+sympy.ccode(Pk2))\n",
    "print('nterm=prterm*k/t')\n",
    "t1=(skalt.subs('nk',0)*sympy.exp(-k/t)).subs(sympy.besselk(1,k/t),'K1exp')\n",
    "sk2=sympy.simplify(t1)+skalt.subs(sympy.besselk(1,k/t),0)\n",
    "print('enterm='+sympy.ccode(sk2))\n",
    "print('edterm='+sympy.ccode(sympy.simplify(edk3*sympy.exp(-k/t)).subs('B1','K1exp').subs('B2','K2exp')))"
   ]
  },
  {
   "cell_type": "markdown",
   "metadata": {},
   "source": [
    "## Testing numerical values for nondegenerate expansion"
   ]
  },
  {
   "cell_type": "markdown",
   "metadata": {},
   "source": [
    "Electrons at T=0.1 MeV:"
   ]
  },
  {
   "cell_type": "code",
   "execution_count": 22,
   "metadata": {},
   "outputs": [],
   "source": [
    "tval=0.1/0.511"
   ]
  },
  {
   "cell_type": "code",
   "execution_count": 23,
   "metadata": {},
   "outputs": [],
   "source": [
    "Tval=0.1/197.33"
   ]
  },
  {
   "cell_type": "code",
   "execution_count": 24,
   "metadata": {},
   "outputs": [],
   "source": [
    "mval=0.511/197.33"
   ]
  },
  {
   "cell_type": "code",
   "execution_count": 25,
   "metadata": {},
   "outputs": [],
   "source": [
    "muval=8.0e-12"
   ]
  },
  {
   "cell_type": "code",
   "execution_count": 26,
   "metadata": {},
   "outputs": [],
   "source": [
    "psival=(muval-mval)/Tval"
   ]
  },
  {
   "cell_type": "code",
   "execution_count": 27,
   "metadata": {},
   "outputs": [],
   "source": [
    "xval=tval*psival"
   ]
  },
  {
   "cell_type": "markdown",
   "metadata": {},
   "source": [
    "Construct an array of pressure, density, entropy, and energy density for a range of value for k:"
   ]
  },
  {
   "cell_type": "code",
   "execution_count": 48,
   "metadata": {},
   "outputs": [],
   "source": [
    "arr=[Pk,nk,sk,edk,Pka,nka,ska,edka]"
   ]
  },
  {
   "cell_type": "code",
   "execution_count": 49,
   "metadata": {},
   "outputs": [],
   "source": [
    "arr2=[arr[i].subs('t',tval).subs('x',xval).subs('m',mval) \n",
    "      for i in range(0,8)]"
   ]
  },
  {
   "cell_type": "code",
   "execution_count": 52,
   "metadata": {},
   "outputs": [
    {
     "name": "stdout",
     "output_type": "stream",
     "text": [
      "[[ 1.78966486e-04 -1.62882635e-07  3.37209953e-10 -9.63299320e-13\n",
      "   3.27050929e-15]\n",
      " [ 3.53154567e-01 -6.42832607e-04  1.99624920e-06 -7.60351419e-09\n",
      "   3.22684799e-11]\n",
      " [ 2.79478879e+00 -4.14195654e-03  1.19406589e-05 -4.37722408e-08\n",
      "   1.81481669e-10]\n",
      " [ 1.23733555e-03 -1.93611729e-06  5.71390187e-09 -2.12189542e-11\n",
      "   8.86981063e-14]\n",
      " [ 3.57932966e-04 -3.25765259e-07  6.74419874e-10 -1.92659852e-12\n",
      "   6.54101806e-15]\n",
      " [ 1.11500790e-08 -4.05920517e-11  1.89081532e-13 -9.60256926e-16\n",
      "   5.09403121e-18]\n",
      " [ 5.58957751e+00 -8.28391284e-03  2.38813168e-05 -8.75444763e-08\n",
      "   3.62963310e-10]\n",
      " [ 2.47467105e-03 -3.87223445e-06  1.14278032e-08 -4.24379057e-11\n",
      "   1.77396199e-13]]\n"
     ]
    }
   ],
   "source": [
    "arr3=numpy.zeros( (8, 5) )\n",
    "for i in range(0,8):\n",
    "    for j in range(0,5):\n",
    "        arr3[i][j]=sympy.N(arr2[i].subs('k',j+1))\n",
    "print(arr3)"
   ]
  },
  {
   "cell_type": "markdown",
   "metadata": {},
   "source": [
    "# Degenerate expansion"
   ]
  },
  {
   "cell_type": "code",
   "execution_count": 37,
   "metadata": {},
   "outputs": [],
   "source": [
    "z=sympy.Symbol('z',positive=True)\n",
    "x=sympy.Symbol('x',positive=True)\n",
    "pi=sympy.Symbol('pi',positive=True)\n",
    "t=sympy.Symbol('t')\n",
    "fz=(z*(2+z))**(sympy.Rational(3,2))/3"
   ]
  },
  {
   "cell_type": "markdown",
   "metadata": {},
   "source": [
    "Show the first few terms:"
   ]
  },
  {
   "cell_type": "code",
   "execution_count": 38,
   "metadata": {},
   "outputs": [
    {
     "name": "stdout",
     "output_type": "stream",
     "text": [
      "1:\n"
     ]
    },
    {
     "data": {
      "image/png": "[encoded data removed]",
      "text/latex": [
       "$\\displaystyle \\frac{\\pi^{2} t^{2} \\sqrt{x} \\left(x + 1\\right) \\sqrt{x + 2}}{6}$"
      ],
      "text/plain": [
       " 2  2              _______\n",
       "π ⋅t ⋅√x⋅(x + 1)⋅╲╱ x + 2 \n",
       "──────────────────────────\n",
       "            6             "
      ]
     },
     "metadata": {},
     "output_type": "display_data"
    },
    {
     "name": "stdout",
     "output_type": "stream",
     "text": [
      "2:\n"
     ]
    },
    {
     "data": {
      "image/png": "[encoded data removed]",
      "text/latex": [
       "$\\displaystyle \\frac{7 \\pi^{6} t^{6} \\left(- 2 x^{3} - 6 x^{2} - 3 x + 1\\right)}{2160 x^{\\frac{3}{2}} \\left(x + 2\\right)^{\\frac{3}{2}}}$"
      ],
      "text/plain": [
       "   6  6 ⎛     3      2          ⎞\n",
       "7⋅π ⋅t ⋅⎝- 2⋅x  - 6⋅x  - 3⋅x + 1⎠\n",
       "─────────────────────────────────\n",
       "             3/2        3/2      \n",
       "       2160⋅x   ⋅(x + 2)         "
      ]
     },
     "metadata": {},
     "output_type": "display_data"
    },
    {
     "name": "stdout",
     "output_type": "stream",
     "text": [
      "3:\n"
     ]
    },
    {
     "data": {
      "image/png": "[encoded data removed]",
      "text/latex": [
       "$\\displaystyle - \\frac{31 \\pi^{8} t^{8} \\left(x + 1\\right)}{6048 x^{\\frac{7}{2}} \\sqrt{x + 2} \\left(x^{3} + 6 x^{2} + 12 x + 8\\right)}$"
      ],
      "text/plain": [
       "                 8  8                     \n",
       "            -31⋅π ⋅t ⋅(x + 1)             \n",
       "──────────────────────────────────────────\n",
       "      7/2   _______ ⎛ 3      2           ⎞\n",
       "6048⋅x   ⋅╲╱ x + 2 ⋅⎝x  + 6⋅x  + 12⋅x + 8⎠"
      ]
     },
     "metadata": {},
     "output_type": "display_data"
    },
    {
     "name": "stdout",
     "output_type": "stream",
     "text": [
      "4:\n"
     ]
    },
    {
     "data": {
      "image/png": "[encoded data removed]",
      "text/latex": [
       "$\\displaystyle \\frac{127 \\pi^{10} t^{10} \\left(2 x^{3} + 6 x^{2} + 7 x + 3\\right)}{11520 x^{\\frac{11}{2}} \\sqrt{x + 2} \\left(x^{5} + 10 x^{4} + 40 x^{3} + 80 x^{2} + 80 x + 32\\right)}$"
      ],
      "text/plain": [
       "                  10  10 ⎛   3      2          ⎞              \n",
       "             127⋅π  ⋅t  ⋅⎝2⋅x  + 6⋅x  + 7⋅x + 3⎠              \n",
       "──────────────────────────────────────────────────────────────\n",
       "       11/2   _______ ⎛ 5       4       3       2            ⎞\n",
       "11520⋅x    ⋅╲╱ x + 2 ⋅⎝x  + 10⋅x  + 40⋅x  + 80⋅x  + 80⋅x + 32⎠"
      ]
     },
     "metadata": {},
     "output_type": "display_data"
    }
   ],
   "source": [
    "fz1=sympy.diff(fz,z)*pi**2*t**2/6\n",
    "print('1:')\n",
    "display(sympy.simplify(fz1.subs(z,x)))\n",
    "\n",
    "fzt=fz1\n",
    "for i in range(0,3):\n",
    "    fzt=sympy.diff(fzt,z)\n",
    "    fzt=sympy.diff(fzt,z)\n",
    "    n=sympy.Rational(i+2,1)\n",
    "    term=(fzt.subs(z,x)*pi**(2*n)*t**(2*n)*sympy.bernoulli(2*n)*2*\n",
    "          (2**(2*n-1)-1)/sympy.factorial(2*n))\n",
    "    term=sympy.simplify(term)\n",
    "    print(str(i+2)+':')\n",
    "    display(term)"
   ]
  },
  {
   "cell_type": "code",
   "execution_count": 39,
   "metadata": {},
   "outputs": [],
   "source": [
    "prefix='for (j=0;j<9;j++)'"
   ]
  }
 ],
 "metadata": {
  "kernelspec": {
   "display_name": "Python 3 (ipykernel)",
   "language": "python",
   "name": "python3"
  },
  "language_info": {
   "codemirror_mode": {
    "name": "ipython",
    "version": 3
   },
   "file_extension": ".py",
   "mimetype": "text/x-python",
   "name": "python",
   "nbconvert_exporter": "python",
   "pygments_lexer": "ipython3",
   "version": "3.10.4"
  }
 },
 "nbformat": 4,
 "nbformat_minor": 4
}
