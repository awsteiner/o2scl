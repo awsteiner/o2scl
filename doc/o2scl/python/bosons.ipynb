{
 "cells": [
  {
   "cell_type": "code",
   "execution_count": 107,
   "metadata": {},
   "outputs": [],
   "source": [
    "import numpy\n",
    "import sympy\n",
    "sympy.init_printing()"
   ]
  },
  {
   "cell_type": "markdown",
   "metadata": {},
   "source": [
    "Define symbolic variables:"
   ]
  },
  {
   "cell_type": "code",
   "execution_count": 78,
   "metadata": {},
   "outputs": [],
   "source": [
    "t=sympy.Symbol('t')\n",
    "k=sympy.Symbol('k')\n",
    "x=sympy.Symbol('x')\n",
    "m=sympy.Symbol('m')"
   ]
  },
  {
   "cell_type": "markdown",
   "metadata": {},
   "source": [
    "# Bessel function identities"
   ]
  },
  {
   "cell_type": "code",
   "execution_count": 79,
   "metadata": {},
   "outputs": [
    {
     "data": {
      "image/png": "[encoded data removed]",
      "text/latex": [
       "$\\displaystyle K_{0}\\left(\\frac{k}{t}\\right) + K_{1}\\left(\\frac{k}{t}\\right) + K_{2}\\left(\\frac{k}{t}\\right) + K_{3}\\left(\\frac{k}{t}\\right) + K_{4}\\left(\\frac{k}{t}\\right)$"
      ],
      "text/plain": [
       "       ⎛   k⎞          ⎛   k⎞          ⎛   k⎞          ⎛   k⎞          ⎛   k⎞\n",
       "besselk⎜0, ─⎟ + besselk⎜1, ─⎟ + besselk⎜2, ─⎟ + besselk⎜3, ─⎟ + besselk⎜4, ─⎟\n",
       "       ⎝   t⎠          ⎝   t⎠          ⎝   t⎠          ⎝   t⎠          ⎝   t⎠"
      ]
     },
     "execution_count": 79,
     "metadata": {},
     "output_type": "execute_result"
    }
   ],
   "source": [
    "test=sympy.Sum(sympy.besselk(m,k/t),(m,0,4)).doit()\n",
    "test"
   ]
  },
  {
   "cell_type": "markdown",
   "metadata": {},
   "source": [
    "Substitution\n",
    "$$\n",
    "K_0(x) = K_2(x)-\\frac{2}{x} K_1(x)\n",
    "$$"
   ]
  },
  {
   "cell_type": "code",
   "execution_count": 80,
   "metadata": {},
   "outputs": [
    {
     "data": {
      "image/png": "[encoded data removed]",
      "text/latex": [
       "$\\displaystyle K_{1}\\left(\\frac{k}{t}\\right) + 2 K_{2}\\left(\\frac{k}{t}\\right) + K_{3}\\left(\\frac{k}{t}\\right) + K_{4}\\left(\\frac{k}{t}\\right) - \\frac{2 t K_{1}\\left(\\frac{k}{t}\\right)}{k}$"
      ],
      "text/plain": [
       "                                                                             ⎛\n",
       "                                                                  2⋅t⋅besselk⎜\n",
       "       ⎛   k⎞            ⎛   k⎞          ⎛   k⎞          ⎛   k⎞              ⎝\n",
       "besselk⎜1, ─⎟ + 2⋅besselk⎜2, ─⎟ + besselk⎜3, ─⎟ + besselk⎜4, ─⎟ - ────────────\n",
       "       ⎝   t⎠            ⎝   t⎠          ⎝   t⎠          ⎝   t⎠           k   \n",
       "\n",
       "   k⎞\n",
       "1, ─⎟\n",
       "   t⎠\n",
       "─────\n",
       "     "
      ]
     },
     "metadata": {},
     "output_type": "display_data"
    },
    {
     "data": {
      "image/png": "[encoded data removed]",
      "text/latex": [
       "$\\displaystyle 0$"
      ],
      "text/plain": [
       "0"
      ]
     },
     "execution_count": 80,
     "metadata": {},
     "output_type": "execute_result"
    }
   ],
   "source": [
    "test2=test.subs(sympy.besselk(0,k/t),sympy.besselk(2,k/t)-\n",
    "             2*t/k*sympy.besselk(1,k/t))\n",
    "display(test2)\n",
    "sympy.N(test.subs(k,2).subs(t,3))-sympy.N(test2.subs(k,2).subs(t,3))"
   ]
  },
  {
   "cell_type": "markdown",
   "metadata": {},
   "source": [
    "Substitution\n",
    "$$\n",
    "K_3(x) = K_1(x)+\\frac{4}{x} K_2(x)\n",
    "$$"
   ]
  },
  {
   "cell_type": "code",
   "execution_count": 81,
   "metadata": {},
   "outputs": [
    {
     "data": {
      "image/png": "[encoded data removed]",
      "text/latex": [
       "$\\displaystyle K_{0}\\left(\\frac{k}{t}\\right) + 2 K_{1}\\left(\\frac{k}{t}\\right) + K_{2}\\left(\\frac{k}{t}\\right) + K_{4}\\left(\\frac{k}{t}\\right) + \\frac{4 t K_{2}\\left(\\frac{k}{t}\\right)}{k}$"
      ],
      "text/plain": [
       "                                                                             ⎛\n",
       "                                                                  4⋅t⋅besselk⎜\n",
       "       ⎛   k⎞            ⎛   k⎞          ⎛   k⎞          ⎛   k⎞              ⎝\n",
       "besselk⎜0, ─⎟ + 2⋅besselk⎜1, ─⎟ + besselk⎜2, ─⎟ + besselk⎜4, ─⎟ + ────────────\n",
       "       ⎝   t⎠            ⎝   t⎠          ⎝   t⎠          ⎝   t⎠           k   \n",
       "\n",
       "   k⎞\n",
       "2, ─⎟\n",
       "   t⎠\n",
       "─────\n",
       "     "
      ]
     },
     "metadata": {},
     "output_type": "display_data"
    },
    {
     "data": {
      "image/png": "[encoded data removed]",
      "text/latex": [
       "$\\displaystyle 0$"
      ],
      "text/plain": [
       "0"
      ]
     },
     "execution_count": 81,
     "metadata": {},
     "output_type": "execute_result"
    }
   ],
   "source": [
    "test3=test.subs(sympy.besselk(3,k/t),sympy.besselk(1,k/t)+\n",
    "             4*t/k*sympy.besselk(2,k/t))\n",
    "display(test3)\n",
    "sympy.N(test.subs(k,2).subs(t,3))-sympy.N(test3.subs(k,2).subs(t,3))"
   ]
  },
  {
   "cell_type": "markdown",
   "metadata": {},
   "source": [
    "# Non-degenerate expansion:"
   ]
  },
  {
   "cell_type": "markdown",
   "metadata": {},
   "source": [
    "Pressure for particles:"
   ]
  },
  {
   "cell_type": "code",
   "execution_count": 82,
   "metadata": {},
   "outputs": [
    {
     "data": {
      "image/png": "[encoded data removed]",
      "text/latex": [
       "$\\displaystyle \\frac{t^{2} e^{\\frac{k \\left(x + 1\\right)}{t}} K_{2}\\left(\\frac{k}{t}\\right)}{k^{2}}$"
      ],
      "text/plain": [
       "    k⋅(x + 1)              \n",
       "    ─────────              \n",
       " 2      t            ⎛   k⎞\n",
       "t ⋅ℯ         ⋅besselk⎜2, ─⎟\n",
       "                     ⎝   t⎠\n",
       "───────────────────────────\n",
       "              2            \n",
       "             k             "
      ]
     },
     "metadata": {},
     "output_type": "display_data"
    }
   ],
   "source": [
    "Pk=t**2/k/k*sympy.exp(k*(x+1)/t)*sympy.besselk(2,k/t)\n",
    "display(Pk)"
   ]
  },
  {
   "cell_type": "markdown",
   "metadata": {},
   "source": [
    "Pressure for particles and antiparticles together:"
   ]
  },
  {
   "cell_type": "code",
   "execution_count": 83,
   "metadata": {},
   "outputs": [
    {
     "data": {
      "image/png": "[encoded data removed]",
      "text/latex": [
       "$\\displaystyle \\frac{2 t^{2} \\cosh{\\left(\\frac{k \\left(x + 1\\right)}{t} \\right)} K_{2}\\left(\\frac{k}{t}\\right)}{k^{2}}$"
      ],
      "text/plain": [
       "   2     ⎛k⋅(x + 1)⎞        ⎛   k⎞\n",
       "2⋅t ⋅cosh⎜─────────⎟⋅besselk⎜2, ─⎟\n",
       "         ⎝    t    ⎠        ⎝   t⎠\n",
       "──────────────────────────────────\n",
       "                 2                \n",
       "                k                 "
      ]
     },
     "execution_count": 83,
     "metadata": {},
     "output_type": "execute_result"
    }
   ],
   "source": [
    "Pka=(2*t**2/k/k*sympy.cosh(k*(x+1)/t)*\n",
    "     sympy.besselk(2,k/t))\n",
    "Pka"
   ]
  },
  {
   "cell_type": "markdown",
   "metadata": {},
   "source": [
    "Show that the pressure with antiparticles is correct:"
   ]
  },
  {
   "cell_type": "code",
   "execution_count": 84,
   "metadata": {},
   "outputs": [
    {
     "data": {
      "image/png": "[encoded data removed]",
      "text/latex": [
       "$\\displaystyle 0$"
      ],
      "text/plain": [
       "0"
      ]
     },
     "execution_count": 84,
     "metadata": {},
     "output_type": "execute_result"
    }
   ],
   "source": [
    "Pka2=(Pk+t**2/k/k*sympy.exp(k*(-x-1)/t)*\n",
    "      sympy.besselk(2,k/t))\n",
    "Pka3=Pka2.subs(sympy.exp(k*(x+1)/t),2*sympy.cosh(k*(x+1)/t)-\n",
    "               sympy.exp(-k*(x+1)/t))\n",
    "sympy.simplify(Pka3-Pka)"
   ]
  },
  {
   "cell_type": "markdown",
   "metadata": {},
   "source": [
    "Number density for particles:"
   ]
  },
  {
   "cell_type": "code",
   "execution_count": 85,
   "metadata": {},
   "outputs": [
    {
     "data": {
      "image/png": "[encoded data removed]",
      "text/latex": [
       "$\\displaystyle \\frac{t e^{\\frac{k \\left(x + 1\\right)}{t}} K_{2}\\left(\\frac{k}{t}\\right)}{k m}$"
      ],
      "text/plain": [
       "   k⋅(x + 1)              \n",
       "   ─────────              \n",
       "       t            ⎛   k⎞\n",
       "t⋅ℯ         ⋅besselk⎜2, ─⎟\n",
       "                    ⎝   t⎠\n",
       "──────────────────────────\n",
       "           k⋅m            "
      ]
     },
     "execution_count": 85,
     "metadata": {},
     "output_type": "execute_result"
    }
   ],
   "source": [
    "nk=sympy.simplify(sympy.diff(Pk,x))/m\n",
    "nk"
   ]
  },
  {
   "cell_type": "markdown",
   "metadata": {},
   "source": [
    "Show that $n_k/P_k = k/t/m$:"
   ]
  },
  {
   "cell_type": "code",
   "execution_count": 86,
   "metadata": {},
   "outputs": [
    {
     "data": {
      "image/png": "[encoded data removed]",
      "text/latex": [
       "$\\displaystyle \\frac{k}{m t}$"
      ],
      "text/plain": [
       " k \n",
       "───\n",
       "m⋅t"
      ]
     },
     "execution_count": 86,
     "metadata": {},
     "output_type": "execute_result"
    }
   ],
   "source": [
    "sympy.simplify(nk/Pk)"
   ]
  },
  {
   "cell_type": "markdown",
   "metadata": {},
   "source": [
    "Compute entropy:"
   ]
  },
  {
   "cell_type": "code",
   "execution_count": 89,
   "metadata": {},
   "outputs": [
    {
     "data": {
      "image/png": "[encoded data removed]",
      "text/latex": [
       "$\\displaystyle \\frac{\\left(B_{1} k - B_{2} k x - B_{2} k + 4 B_{2} t\\right) e^{\\frac{k \\left(x + 1\\right)}{t}}}{k^{2} m}$"
      ],
      "text/plain": [
       "                                 k⋅(x + 1)\n",
       "                                 ─────────\n",
       "                                     t    \n",
       "(B₁⋅k - B₂⋅k⋅x - B₂⋅k + 4⋅B₂⋅t)⋅ℯ         \n",
       "──────────────────────────────────────────\n",
       "                    2                     \n",
       "                   k ⋅m                   "
      ]
     },
     "execution_count": 89,
     "metadata": {},
     "output_type": "execute_result"
    }
   ],
   "source": [
    "sk=sympy.simplify(sympy.diff(Pk,t))/m\n",
    "sk2=sk.subs(sympy.besselk(0,k/t),sympy.besselk(2,k/t)-\n",
    "             2*t/k*sympy.besselk(1,k/t))\n",
    "sk3=sympy.simplify(sk2.subs(sympy.besselk(2,k/t),sympy.Symbol('B2')).subs(sympy.besselk(1,k/t),sympy.Symbol('B1')))\n",
    "sk3"
   ]
  },
  {
   "cell_type": "markdown",
   "metadata": {},
   "source": [
    "Compute terms for energy density:"
   ]
  },
  {
   "cell_type": "code",
   "execution_count": 90,
   "metadata": {},
   "outputs": [
    {
     "data": {
      "image/png": "[encoded data removed]",
      "text/latex": [
       "$\\displaystyle \\frac{t \\left(k^{2} K_{1}\\left(\\frac{k}{t}\\right) + 3 k t K_{0}\\left(\\frac{k}{t}\\right) + 6 t^{2} K_{1}\\left(\\frac{k}{t}\\right)\\right) e^{\\frac{k \\left(x + 1\\right)}{t}}}{k^{3}}$"
      ],
      "text/plain": [
       "                                                                 k⋅(x + 1)\n",
       "                                                                 ─────────\n",
       "  ⎛ 2        ⎛   k⎞                ⎛   k⎞      2        ⎛   k⎞⎞      t    \n",
       "t⋅⎜k ⋅besselk⎜1, ─⎟ + 3⋅k⋅t⋅besselk⎜0, ─⎟ + 6⋅t ⋅besselk⎜1, ─⎟⎟⋅ℯ         \n",
       "  ⎝          ⎝   t⎠                ⎝   t⎠               ⎝   t⎠⎠           \n",
       "──────────────────────────────────────────────────────────────────────────\n",
       "                                     3                                    \n",
       "                                    k                                     "
      ]
     },
     "execution_count": 90,
     "metadata": {},
     "output_type": "execute_result"
    }
   ],
   "source": [
    "edk=sympy.simplify(-Pk+t*m*sk+(x+1)*m*nk)\n",
    "edk"
   ]
  },
  {
   "cell_type": "markdown",
   "metadata": {},
   "source": [
    "Replace K<sub>0</sub> with a combination of K<sub>1</sub> and K<sub>2</sub> and \n",
    "define\n",
    "$$\n",
    "B_1 \\equiv K_1(k/t) \\quad ; \\quad B_2 \\equiv K_2(k/t)\n",
    "$$"
   ]
  },
  {
   "cell_type": "code",
   "execution_count": 91,
   "metadata": {},
   "outputs": [],
   "source": [
    "edk2=edk.subs(sympy.besselk(0,k/t),sympy.besselk(2,k/t)-\n",
    "             2*t/k*sympy.besselk(1,k/t))"
   ]
  },
  {
   "cell_type": "markdown",
   "metadata": {},
   "source": [
    "For convenience, replace with B1 and B2:"
   ]
  },
  {
   "cell_type": "code",
   "execution_count": 92,
   "metadata": {},
   "outputs": [
    {
     "data": {
      "image/png": "[encoded data removed]",
      "text/latex": [
       "$\\displaystyle \\frac{t \\left(B_{1} k + 3 B_{2} t\\right) e^{\\frac{k \\left(x + 1\\right)}{t}}}{k^{2}}$"
      ],
      "text/plain": [
       "                   k⋅(x + 1)\n",
       "                   ─────────\n",
       "                       t    \n",
       "t⋅(B₁⋅k + 3⋅B₂⋅t)⋅ℯ         \n",
       "────────────────────────────\n",
       "              2             \n",
       "             k              "
      ]
     },
     "execution_count": 92,
     "metadata": {},
     "output_type": "execute_result"
    }
   ],
   "source": [
    "edk3=sympy.simplify(edk2.subs(sympy.besselk(2,k/t),sympy.Symbol('B2')).subs(sympy.besselk(1,k/t),sympy.Symbol('B1')))\n",
    "edk3"
   ]
  },
  {
   "cell_type": "markdown",
   "metadata": {},
   "source": [
    "Number density with antiparticles:"
   ]
  },
  {
   "cell_type": "code",
   "execution_count": 93,
   "metadata": {},
   "outputs": [
    {
     "data": {
      "image/png": "[encoded data removed]",
      "text/latex": [
       "$\\displaystyle \\frac{2 t \\left(k K_{0}\\left(\\frac{k}{t}\\right) + 2 t K_{1}\\left(\\frac{k}{t}\\right)\\right) \\sinh{\\left(\\frac{k \\left(x + 1\\right)}{t} \\right)}}{k^{2} m}$"
      ],
      "text/plain": [
       "    ⎛         ⎛   k⎞              ⎛   k⎞⎞     ⎛k⋅(x + 1)⎞\n",
       "2⋅t⋅⎜k⋅besselk⎜0, ─⎟ + 2⋅t⋅besselk⎜1, ─⎟⎟⋅sinh⎜─────────⎟\n",
       "    ⎝         ⎝   t⎠              ⎝   t⎠⎠     ⎝    t    ⎠\n",
       "─────────────────────────────────────────────────────────\n",
       "                            2                            \n",
       "                           k ⋅m                          "
      ]
     },
     "execution_count": 93,
     "metadata": {},
     "output_type": "execute_result"
    }
   ],
   "source": [
    "nka=sympy.simplify(sympy.diff(Pka,x))/m\n",
    "nka"
   ]
  },
  {
   "cell_type": "markdown",
   "metadata": {},
   "source": [
    "Compute nka/Pka:"
   ]
  },
  {
   "cell_type": "code",
   "execution_count": 94,
   "metadata": {},
   "outputs": [
    {
     "data": {
      "image/png": "[encoded data removed]",
      "text/latex": [
       "$\\displaystyle \\frac{k \\tanh{\\left(\\frac{k \\left(x + 1\\right)}{t} \\right)}}{m t}$"
      ],
      "text/plain": [
       "      ⎛k⋅(x + 1)⎞\n",
       "k⋅tanh⎜─────────⎟\n",
       "      ⎝    t    ⎠\n",
       "─────────────────\n",
       "       m⋅t       "
      ]
     },
     "execution_count": 94,
     "metadata": {},
     "output_type": "execute_result"
    }
   ],
   "source": [
    "sympy.simplify(nka/Pka)"
   ]
  },
  {
   "cell_type": "markdown",
   "metadata": {},
   "source": [
    "Entropy with antiparticles:"
   ]
  },
  {
   "cell_type": "code",
   "execution_count": 95,
   "metadata": {},
   "outputs": [
    {
     "data": {
      "image/png": "[encoded data removed]",
      "text/latex": [
       "$\\displaystyle - \\frac{2 B_{2} k \\left(x + 1\\right) \\sinh{\\left(\\frac{k \\left(x + 1\\right)}{t} \\right)} - 2 \\left(B_{1} k + 4 B_{2} t\\right) \\cosh{\\left(\\frac{k \\left(x + 1\\right)}{t} \\right)}}{k^{2} m}$"
      ],
      "text/plain": [
       " ⎛                   ⎛k⋅(x + 1)⎞                         ⎛k⋅(x + 1)⎞⎞ \n",
       "-⎜2⋅B₂⋅k⋅(x + 1)⋅sinh⎜─────────⎟ - 2⋅(B₁⋅k + 4⋅B₂⋅t)⋅cosh⎜─────────⎟⎟ \n",
       " ⎝                   ⎝    t    ⎠                         ⎝    t    ⎠⎠ \n",
       "──────────────────────────────────────────────────────────────────────\n",
       "                                  2                                   \n",
       "                                 k ⋅m                                 "
      ]
     },
     "execution_count": 95,
     "metadata": {},
     "output_type": "execute_result"
    }
   ],
   "source": [
    "ska=sympy.simplify(sympy.diff(Pka,t))/m\n",
    "ska2=ska.subs(sympy.besselk(3,k/t),sympy.besselk(1,k/t)+\n",
    "             4*t/k*sympy.besselk(2,k/t))\n",
    "ska3=sympy.simplify(ska2.subs(sympy.besselk(2,k/t),sympy.Symbol('B2')).subs(sympy.besselk(1,k/t),sympy.Symbol('B1')))\n",
    "ska3"
   ]
  },
  {
   "cell_type": "markdown",
   "metadata": {},
   "source": [
    "Energy density with antiparticles:"
   ]
  },
  {
   "cell_type": "code",
   "execution_count": 96,
   "metadata": {},
   "outputs": [
    {
     "data": {
      "image/png": "[encoded data removed]",
      "text/latex": [
       "$\\displaystyle \\frac{2 t \\left(B_{1} k \\cosh{\\left(\\frac{k \\left(x + 1\\right)}{t} \\right)} - 2 B_{2} k x \\sinh{\\left(\\frac{k \\left(x + 1\\right)}{t} \\right)} - 2 B_{2} k \\sinh{\\left(\\frac{k \\left(x + 1\\right)}{t} \\right)} + 3 B_{2} t \\cosh{\\left(\\frac{k \\left(x + 1\\right)}{t} \\right)}\\right)}{k^{2}}$"
      ],
      "text/plain": [
       "    ⎛         ⎛k⋅(x + 1)⎞                ⎛k⋅(x + 1)⎞              ⎛k⋅(x + 1)⎞ \n",
       "2⋅t⋅⎜B₁⋅k⋅cosh⎜─────────⎟ - 2⋅B₂⋅k⋅x⋅sinh⎜─────────⎟ - 2⋅B₂⋅k⋅sinh⎜─────────⎟ \n",
       "    ⎝         ⎝    t    ⎠                ⎝    t    ⎠              ⎝    t    ⎠ \n",
       "──────────────────────────────────────────────────────────────────────────────\n",
       "                                                    2                         \n",
       "                                                   k                          \n",
       "\n",
       "             ⎛k⋅(x + 1)⎞⎞\n",
       "+ 3⋅B₂⋅t⋅cosh⎜─────────⎟⎟\n",
       "             ⎝    t    ⎠⎠\n",
       "─────────────────────────\n",
       "                         \n",
       "                         "
      ]
     },
     "execution_count": 96,
     "metadata": {},
     "output_type": "execute_result"
    }
   ],
   "source": [
    "edka=sympy.simplify(-Pka+t*ska*m-(x+1)*m*nka)\n",
    "edka2=edka.subs(sympy.besselk(0,k/t),sympy.besselk(2,k/t)-\n",
    "             2*t/k*sympy.besselk(1,k/t))\n",
    "edka3=sympy.simplify(edka2.subs(sympy.besselk(2,k/t),sympy.Symbol('B2')).subs(sympy.besselk(1,k/t),sympy.Symbol('B1')))\n",
    "sympy.simplify(edka3)"
   ]
  },
  {
   "cell_type": "markdown",
   "metadata": {},
   "source": [
    "## Testing numerical values for nondegenerate expansion"
   ]
  },
  {
   "cell_type": "markdown",
   "metadata": {},
   "source": [
    "Electrons at T=0.1 MeV:"
   ]
  },
  {
   "cell_type": "code",
   "execution_count": 98,
   "metadata": {},
   "outputs": [],
   "source": [
    "tval=0.1/0.511"
   ]
  },
  {
   "cell_type": "code",
   "execution_count": 99,
   "metadata": {},
   "outputs": [],
   "source": [
    "Tval=0.1/197.33"
   ]
  },
  {
   "cell_type": "code",
   "execution_count": 100,
   "metadata": {},
   "outputs": [],
   "source": [
    "mval=0.511/197.33"
   ]
  },
  {
   "cell_type": "code",
   "execution_count": 101,
   "metadata": {},
   "outputs": [],
   "source": [
    "muval=8.0e-12"
   ]
  },
  {
   "cell_type": "code",
   "execution_count": 102,
   "metadata": {},
   "outputs": [],
   "source": [
    "psival=(muval-mval)/Tval"
   ]
  },
  {
   "cell_type": "code",
   "execution_count": 103,
   "metadata": {},
   "outputs": [],
   "source": [
    "xval=tval*psival"
   ]
  },
  {
   "cell_type": "markdown",
   "metadata": {},
   "source": [
    "Construct an array of pressure, density, entropy, and energy density for a range of value for k:"
   ]
  },
  {
   "cell_type": "code",
   "execution_count": 104,
   "metadata": {},
   "outputs": [],
   "source": [
    "arr=[Pk,nk,sk,edk,Pka,nka,ska,edka]"
   ]
  },
  {
   "cell_type": "code",
   "execution_count": 105,
   "metadata": {},
   "outputs": [],
   "source": [
    "arr2=[arr[i].subs('t',tval).subs('x',xval).subs('m',mval) \n",
    "      for i in range(0,8)]"
   ]
  },
  {
   "cell_type": "code",
   "execution_count": 108,
   "metadata": {},
   "outputs": [
    {
     "name": "stdout",
     "output_type": "stream",
     "text": [
      "[[1.78966486e-04 1.62882635e-07 3.37209953e-10 9.63299320e-13\n",
      "  3.27050929e-15]\n",
      " [3.53154567e-01 6.42832607e-04 1.99624920e-06 7.60351419e-09\n",
      "  3.22684799e-11]\n",
      " [2.79478879e+00 4.14195654e-03 1.19406589e-05 4.37722408e-08\n",
      "  1.81481669e-10]\n",
      " [1.23733555e-03 1.93611729e-06 5.71390187e-09 2.12189542e-11\n",
      "  8.86981063e-14]\n",
      " [3.57932966e-04 3.25765259e-07 6.74419874e-10 1.92659852e-12\n",
      "  6.54101806e-15]\n",
      " [1.11500790e-08 4.05920517e-11 1.89081532e-13 9.60256926e-16\n",
      "  5.09403121e-18]\n",
      " [5.58957751e+00 8.28391284e-03 2.38813168e-05 8.75444763e-08\n",
      "  3.62963310e-10]\n",
      " [2.47467105e-03 3.87223445e-06 1.14278032e-08 4.24379057e-11\n",
      "  1.77396199e-13]]\n"
     ]
    }
   ],
   "source": [
    "arr3=numpy.zeros( (8, 5) )\n",
    "for i in range(0,8):\n",
    "    for j in range(0,5):\n",
    "        arr3[i][j]=sympy.N(arr2[i].subs('k',j+1))\n",
    "print(arr3)"
   ]
  },
  {
   "cell_type": "code",
   "execution_count": null,
   "metadata": {},
   "outputs": [],
   "source": []
  }
 ],
 "metadata": {
  "kernelspec": {
   "display_name": "Python 3 (ipykernel)",
   "language": "python",
   "name": "python3"
  },
  "language_info": {
   "codemirror_mode": {
    "name": "ipython",
    "version": 3
   },
   "file_extension": ".py",
   "mimetype": "text/x-python",
   "name": "python",
   "nbconvert_exporter": "python",
   "pygments_lexer": "ipython3",
   "version": "3.10.4"
  }
 },
 "nbformat": 4,
 "nbformat_minor": 4
}
